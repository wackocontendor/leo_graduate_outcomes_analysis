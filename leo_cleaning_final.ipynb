{
 "cells": [
  {
   "cell_type": "markdown",
   "id": "1dbe559b-85d6-44e1-a944-ce3854e3f245",
   "metadata": {},
   "source": [
    "## Longitudinal Education Outcomes (LEO) analysis on graduate earnings\n",
    "\n",
    "### Analysis performed on 2021/22 data on industry of graduate employment, up to the 5-digit Standard Industry Classification (SIC) code level, available [here](https://content.explore-education-statistics.service.gov.uk/api/releases/20a83553-df0f-4fc1-e6d5-08dc0dccb030/files/018ba8f3-c614-4abb-aa1b-88244edd0c86) on GOV.UK"
   ]
  },
  {
   "cell_type": "code",
   "execution_count": 2,
   "id": "a50c631e-f148-4b6a-8c59-45b137b6714e",
   "metadata": {},
   "outputs": [],
   "source": [
    "# import required libraries\n",
    "\n",
    "import pandas as pd\n",
    "import numpy as np"
   ]
  },
  {
   "cell_type": "code",
   "execution_count": 36,
   "id": "c8bff2e9-a764-44e9-ba47-f5d61d751127",
   "metadata": {},
   "outputs": [],
   "source": [
    "# load data into Pandas DataFrame\n",
    "\n",
    "df = pd.read_excel(\"input/industry_tables_data_5_digit_SIC.xlsx\")"
   ]
  },
  {
   "cell_type": "code",
   "execution_count": 37,
   "id": "b50e7bb4",
   "metadata": {},
   "outputs": [],
   "source": [
    "df2 = df.copy()"
   ]
  },
  {
   "cell_type": "code",
   "execution_count": 38,
   "id": "2cab0734",
   "metadata": {},
   "outputs": [],
   "source": [
    "df2[\"YAG\"] = pd.to_numeric(df2[\"YAG\"].str.replace(\" YAG\", \"\"))\n",
    "\n",
    "df2[\"earnings_median\"] = df2[\"earnings_median\"].replace(\"c\", np.NaN)"
   ]
  },
  {
   "cell_type": "code",
   "execution_count": 39,
   "id": "3667cf6c",
   "metadata": {},
   "outputs": [],
   "source": [
    "# df[\"YAG\"] = pd.to_numeric(df[\"YAG\"].str.replace(\" YAG\", \"\"))\n",
    "# df[\"earnings_median\"] = df[\"earnings_median\"].replace(\"c\", np.NaN)\n",
    "\n",
    "df2.query('earnings_median.notna() and qualification_TR == \"First degree\" and SECTIONNAME != \"Not known\" and subject_name == \"Total\" and ethnicity_major == \"Total\" and prior_attainment == \"Total\" and FSM == \"Total\" and current_region == \"Total\"', inplace=True) \n"
   ]
  },
  {
   "cell_type": "code",
   "execution_count": 41,
   "id": "d7c38ddd",
   "metadata": {},
   "outputs": [],
   "source": [
    "df2.drop(columns=[\"time_period\", \"time_identifier\", \"geographic_level\", \"country_code\", \"country_name\", \"group_name\", \"group_number_3dig\", \"qualification_TR\", \"subject_name\", \"ethnicity_major\", \"prior_attainment\", \"FSM\", \"current_region\", \"SIC_5dig\"], inplace = True)"
   ]
  },
  {
   "cell_type": "code",
   "execution_count": 43,
   "id": "2e95c433",
   "metadata": {},
   "outputs": [],
   "source": [
    "df2.rename(columns={\"YAG\": \"years_after_graduation\", \"count\": \"number_of_graduates\", \"earnings_median\": \"median_earnings\", \"SECTIONNAME\": \"section_name\", \"sic_detailed\": \"sic_name\"}, inplace=True)"
   ]
  },
  {
   "cell_type": "code",
   "execution_count": 44,
   "id": "da98b46a",
   "metadata": {},
   "outputs": [],
   "source": [
    "df2['count_sics'] = df2.groupby('sic_name')['sic_name'].transform('count')"
   ]
  },
  {
   "cell_type": "code",
   "execution_count": 46,
   "id": "04fb4207",
   "metadata": {},
   "outputs": [],
   "source": [
    "df2.drop(df2[df2.count_sics != 12].index, inplace=True)"
   ]
  },
  {
   "cell_type": "code",
   "execution_count": 47,
   "id": "a58f23ba",
   "metadata": {},
   "outputs": [],
   "source": [
    "df2.drop(columns=['count_sics'], inplace=True)"
   ]
  },
  {
   "cell_type": "code",
   "execution_count": 49,
   "id": "68ef2287",
   "metadata": {},
   "outputs": [],
   "source": [
    "df2.to_csv(\"output/graduate_outcomes_final.csv\", index = False)"
   ]
  }
 ],
 "metadata": {
  "kernelspec": {
   "display_name": "Python 3 (ipykernel)",
   "language": "python",
   "name": "python3"
  },
  "language_info": {
   "codemirror_mode": {
    "name": "ipython",
    "version": 3
   },
   "file_extension": ".py",
   "mimetype": "text/x-python",
   "name": "python",
   "nbconvert_exporter": "python",
   "pygments_lexer": "ipython3",
   "version": "3.11.5"
  }
 },
 "nbformat": 4,
 "nbformat_minor": 5
}
