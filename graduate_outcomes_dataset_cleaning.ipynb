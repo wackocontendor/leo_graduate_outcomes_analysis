{
 "cells": [
  {
   "cell_type": "markdown",
   "id": "1dbe559b-85d6-44e1-a944-ce3854e3f245",
   "metadata": {},
   "source": [
    "## Longitudinal Education Outcomes (LEO) analysis on graduate earnings\n",
    "\n",
    "### Analysis performed on 2021/22 data on industry of graduate employment, up to the 5-digit Standard Industry Classification (SIC) code level, available [here](https://content.explore-education-statistics.service.gov.uk/api/releases/20a83553-df0f-4fc1-e6d5-08dc0dccb030/files/018ba8f3-c614-4abb-aa1b-88244edd0c86) on GOV.UK"
   ]
  },
  {
   "cell_type": "code",
   "execution_count": 1,
   "id": "a50c631e-f148-4b6a-8c59-45b137b6714e",
   "metadata": {},
   "outputs": [],
   "source": [
    "# import required libraries\n",
    "\n",
    "import pandas as pd\n",
    "import numpy as np"
   ]
  },
  {
   "cell_type": "code",
   "execution_count": 2,
   "id": "c8bff2e9-a764-44e9-ba47-f5d61d751127",
   "metadata": {},
   "outputs": [],
   "source": [
    "# load data into Pandas DataFrame\n",
    "\n",
    "df = pd.read_excel(\"input/industry_tables_data_5_digit_SIC.xlsx\")"
   ]
  },
  {
   "cell_type": "code",
   "execution_count": null,
   "id": "8767fd60-e042-4366-9fe7-b65a0708710e",
   "metadata": {},
   "outputs": [],
   "source": [
    "# view first 5 rows of data\n",
    "\n",
    "df.head()"
   ]
  },
  {
   "cell_type": "code",
   "execution_count": null,
   "id": "b33eea06-cc3a-4d3a-96a9-f8fbd8ce0b85",
   "metadata": {},
   "outputs": [],
   "source": [
    "# explore columns\n",
    "\n",
    "df.describe(include='all')"
   ]
  },
  {
   "cell_type": "code",
   "execution_count": 5,
   "id": "2779e94f-3a3e-44ba-a88c-3c0cfc2c1b9f",
   "metadata": {},
   "outputs": [],
   "source": [
    "# drop columns that only have one value in them\n",
    "\n",
    "df.drop(columns=['time_period', 'time_identifier', 'geographic_level', 'country_code', 'country_name', 'group_number_3dig', 'SIC_5dig'], inplace = True)"
   ]
  },
  {
   "cell_type": "code",
   "execution_count": null,
   "id": "ad5a0ee0-b6b3-471f-a970-50238510f438",
   "metadata": {},
   "outputs": [],
   "source": [
    "# explore YAG column\n",
    "# YAG = Years after graduation\n",
    "\n",
    "df['YAG'].value_counts()"
   ]
  },
  {
   "cell_type": "code",
   "execution_count": 7,
   "id": "f5d26e18-4b32-4cec-b9e4-259445d5a6f7",
   "metadata": {},
   "outputs": [],
   "source": [
    "# replace ' YAG' from each row and convert column to number\n",
    "\n",
    "df[\"YAG\"] = pd.to_numeric(df[\"YAG\"].str.replace(\" YAG\", \"\"))\n",
    "\n",
    "# rename the column for clarity in analysis\n",
    "\n",
    "df.rename(columns={'YAG': 'years_after_graduation'}, inplace=True)"
   ]
  },
  {
   "cell_type": "code",
   "execution_count": null,
   "id": "0c17709d-94de-42af-b8c4-ab32f040511b",
   "metadata": {},
   "outputs": [],
   "source": [
    "# explore SECTIONNAME column\n",
    "# SECTIONNAME = Industry section (Standard Industry Classification, SIC section name)\n",
    "\n",
    "df['SECTIONNAME'].value_counts()"
   ]
  },
  {
   "cell_type": "code",
   "execution_count": 9,
   "id": "91c43c50-7ecf-4f03-8ee5-7f270384947a",
   "metadata": {},
   "outputs": [],
   "source": [
    "# remove rows where industry is not known\n",
    "\n",
    "df.drop(df[df.SECTIONNAME == 'Not known'].index, inplace=True)\n",
    "\n",
    "# rename the column to standardise format for analysis\n",
    "\n",
    "df.rename(columns={'SECTIONNAME': 'section_name'}, inplace=True)"
   ]
  },
  {
   "cell_type": "code",
   "execution_count": null,
   "id": "c46b674f-08cd-4ca2-bd82-1bfbecb78070",
   "metadata": {},
   "outputs": [],
   "source": [
    "# explore group_name column\n",
    "# group_name = Industry group name\n",
    "\n",
    "df['group_name'].value_counts()"
   ]
  },
  {
   "cell_type": "code",
   "execution_count": null,
   "id": "73832a5d-c27b-48a0-b124-40e021e13338",
   "metadata": {},
   "outputs": [],
   "source": [
    "# explore sic_detailed column\n",
    "# sic_detailed = Industry class/sub-class name\n",
    "\n",
    "df['sic_detailed'].value_counts()"
   ]
  },
  {
   "cell_type": "code",
   "execution_count": null,
   "id": "d59765de-ef4e-404d-a8d1-3c37c602d0ce",
   "metadata": {},
   "outputs": [],
   "source": [
    "# explore qualification_TR column\n",
    "# qualification_TR = Qualification level\n",
    "\n",
    "df['qualification_TR'].value_counts()"
   ]
  },
  {
   "cell_type": "code",
   "execution_count": 13,
   "id": "c1c54495-c857-4990-ae0b-d4fc0d7fc79f",
   "metadata": {},
   "outputs": [],
   "source": [
    "# Level 6 = degree or equivalent\n",
    "# Level 7 = masters or equivalent\n",
    "# Level 8 = doctorate or equivalent\n",
    "\n",
    "# this analysis will focus on level 6 qualifications only as it is the most common qualification choice for higher education\n",
    "# link: https://explore-education-statistics.service.gov.uk/find-statistics/progression-to-higher-education-or-training\n",
    "\n",
    "df.drop(df[df.qualification_TR != 'First degree'].index, inplace=True)\n",
    "\n",
    "# drop the qualification_TR column now there's only one value in it\n",
    "\n",
    "df.drop(columns=['qualification_TR'], inplace = True)"
   ]
  },
  {
   "cell_type": "code",
   "execution_count": null,
   "id": "725ed01f-0f4b-406e-8699-3ba54c466833",
   "metadata": {},
   "outputs": [],
   "source": [
    "# explore sex column\n",
    "# sex = Graduate sex\n",
    "\n",
    "df['sex'].value_counts()"
   ]
  },
  {
   "cell_type": "code",
   "execution_count": null,
   "id": "590899c5-4963-4299-adf9-c5a0f7dfc32e",
   "metadata": {},
   "outputs": [],
   "source": [
    "# explore subject_name column\n",
    "# subject_name = Subject studied\n",
    "\n",
    "df['subject_name'].value_counts()"
   ]
  },
  {
   "cell_type": "code",
   "execution_count": null,
   "id": "bc77cb24-0f97-4e24-9371-5d3c7f1b43f3",
   "metadata": {},
   "outputs": [],
   "source": [
    "# explore ethnicity_major column\n",
    "# ethnicity_major = Ethnicity broad\n",
    "\n",
    "df['ethnicity_major'].value_counts()"
   ]
  },
  {
   "cell_type": "code",
   "execution_count": null,
   "id": "cb5edef0-c658-4e01-8c58-685348d56453",
   "metadata": {},
   "outputs": [],
   "source": [
    "# explore prior_attainment column\n",
    "# prior_attainment = Prior attainment level\n",
    "\n",
    "df['prior_attainment'].value_counts()"
   ]
  },
  {
   "cell_type": "code",
   "execution_count": null,
   "id": "fc18dc0d-a0e2-4345-a4e2-51b8664e5b7e",
   "metadata": {},
   "outputs": [],
   "source": [
    "# explore FSM column\n",
    "# FSM = Free school meal eligibility status\n",
    "\n",
    "df['FSM'].value_counts()"
   ]
  },
  {
   "cell_type": "code",
   "execution_count": null,
   "id": "a79f28ac-b691-40f4-95ae-efb75a214139",
   "metadata": {},
   "outputs": [],
   "source": [
    "# explore current_region column\n",
    "# current_region = Current region\n",
    "\n",
    "df['current_region'].value_counts()"
   ]
  },
  {
   "cell_type": "code",
   "execution_count": null,
   "id": "8d742fe1-6aca-4323-844d-4caa0c49bc92",
   "metadata": {},
   "outputs": [],
   "source": [
    "# explore count column\n",
    "# count = Number of graduates\n",
    "\n",
    "df['count'].value_counts()"
   ]
  },
  {
   "cell_type": "code",
   "execution_count": 21,
   "id": "4a9c8d37-297e-49b9-b36e-831857e29523",
   "metadata": {},
   "outputs": [],
   "source": [
    "# rename the column for clarity in analysis\n",
    "\n",
    "df.rename(columns={'count': 'number_of_graduates'}, inplace=True)"
   ]
  },
  {
   "cell_type": "code",
   "execution_count": null,
   "id": "8aa67ecd-b888-468a-af99-03a1900e7aab",
   "metadata": {},
   "outputs": [],
   "source": [
    "# explore earnings_median column\n",
    "# earnings_median = Median earnings\n",
    "\n",
    "df['earnings_median'].value_counts()"
   ]
  },
  {
   "cell_type": "code",
   "execution_count": 23,
   "id": "e0c5b4cc-e41a-427d-9ef4-0e2e338660b8",
   "metadata": {},
   "outputs": [],
   "source": [
    "# replace 'c' values with NumPy not a number (NaN)\n",
    "# c = data has been supressed due to small numbers\n",
    "\n",
    "df[\"earnings_median\"] = df[\"earnings_median\"].replace(\"c\", np.NaN)"
   ]
  },
  {
   "cell_type": "code",
   "execution_count": null,
   "id": "aa65963c-e43c-4753-94ae-2e64683eac51",
   "metadata": {},
   "outputs": [],
   "source": [
    "# explore combinations of demographic variables in the data\n",
    "\n",
    "df.groupby(['sex', 'ethnicity_major', 'prior_attainment', 'FSM', 'current_region']).size().reset_index().rename(columns={0:'count'})"
   ]
  },
  {
   "cell_type": "code",
   "execution_count": 25,
   "id": "1857fe18-bbd8-4d20-b4bb-2de52e0190e9",
   "metadata": {},
   "outputs": [],
   "source": [
    "# it isn't possible in this dataset to explore combinations of demographic variables\n",
    "# this analysis will focus on differences between male and female graduates to further explore the well-understood gap between male and female earnings\n",
    "\n",
    "df.drop(df[df.sex == 'Female + male'].index, inplace=True)"
   ]
  },
  {
   "cell_type": "code",
   "execution_count": 26,
   "id": "c997563f-de0e-431a-8b4b-4307cbe5c9a4",
   "metadata": {},
   "outputs": [],
   "source": [
    "# remove the remaining demographic colummns that are no longer required\n",
    "\n",
    "df.drop(columns=['ethnicity_major', 'prior_attainment', 'FSM', 'current_region'], inplace = True)"
   ]
  },
  {
   "cell_type": "code",
   "execution_count": null,
   "id": "2df34072-ca70-4968-a88a-e006cccc5fe0",
   "metadata": {},
   "outputs": [],
   "source": [
    "# explore the combinations of sex and subject_name\n",
    "\n",
    "df.groupby(['sex', 'subject_name']).size().reset_index().rename(columns={0:'count'})"
   ]
  },
  {
   "cell_type": "code",
   "execution_count": 28,
   "id": "c944fabd-4dc4-4cc3-9a6d-49ec74c92fac",
   "metadata": {},
   "outputs": [],
   "source": [
    "# create dataframe with subjects included except the totals\n",
    "\n",
    "df_sex_subjects = df.drop(df[df.subject_name == 'Total'].index)"
   ]
  },
  {
   "cell_type": "code",
   "execution_count": null,
   "id": "27960f23",
   "metadata": {},
   "outputs": [],
   "source": [
    "# check data after transformations\n",
    "\n",
    "df_sex_subjects.head()"
   ]
  },
  {
   "cell_type": "code",
   "execution_count": 65,
   "id": "c72cc199",
   "metadata": {},
   "outputs": [],
   "source": [
    "# create dataframe with only the totals across subjects\n",
    "\n",
    "df_sex = df.drop(df[df.subject_name != 'Total'].index)"
   ]
  },
  {
   "cell_type": "code",
   "execution_count": 66,
   "id": "b07b6785",
   "metadata": {},
   "outputs": [],
   "source": [
    "# remove the subject_name column that is no longer required\n",
    "\n",
    "df_sex.drop(columns=['subject_name'], inplace=True)"
   ]
  },
  {
   "cell_type": "code",
   "execution_count": null,
   "id": "837558be-28c6-46dc-9e5a-46ebd148570e",
   "metadata": {},
   "outputs": [],
   "source": [
    "# check data after transformations\n",
    "\n",
    "df_sex.head()"
   ]
  },
  {
   "cell_type": "code",
   "execution_count": 68,
   "id": "be975d8b",
   "metadata": {},
   "outputs": [],
   "source": [
    "# remove rows where there is no earnings data\n",
    "\n",
    "df_sex.dropna(inplace=True)"
   ]
  },
  {
   "cell_type": "code",
   "execution_count": 69,
   "id": "e938d7dd",
   "metadata": {},
   "outputs": [],
   "source": [
    "# count the number of times each sic appears, we only want to keep the ones that appear 8 times (each year for each sex)\n",
    "\n",
    "df_sex['count_sics'] = df_sex.groupby('sic_detailed')['sic_detailed'].transform('count')"
   ]
  },
  {
   "cell_type": "code",
   "execution_count": 72,
   "id": "79f40d6c",
   "metadata": {},
   "outputs": [],
   "source": [
    "# remove the sics that appear less than 8 times\n",
    "\n",
    "df_sex.drop(df_sex[df_sex.count_sics != 8].index, inplace=True)\n",
    "\n",
    "# drop the count_sics column as it's no longer required\n",
    "\n",
    "df_sex.drop(columns=['count_sics'], inplace=True)"
   ]
  },
  {
   "cell_type": "code",
   "execution_count": 73,
   "id": "d2c2ca9e-88de-4912-b069-6a0953688be1",
   "metadata": {},
   "outputs": [],
   "source": [
    "# output the data to a CSV\n",
    "\n",
    "df_sex.to_csv(\"output/graduate_outcomes_industry_sex_salary.csv\", index = False)\n",
    "df_sex_subjects.to_csv(\"output/graduate_outcomes_industry_sex_salary_subject.csv\", index = False)"
   ]
  }
 ],
 "metadata": {
  "kernelspec": {
   "display_name": "Python 3 (ipykernel)",
   "language": "python",
   "name": "python3"
  },
  "language_info": {
   "codemirror_mode": {
    "name": "ipython",
    "version": 3
   },
   "file_extension": ".py",
   "mimetype": "text/x-python",
   "name": "python",
   "nbconvert_exporter": "python",
   "pygments_lexer": "ipython3",
   "version": "3.11.5"
  }
 },
 "nbformat": 4,
 "nbformat_minor": 5
}
